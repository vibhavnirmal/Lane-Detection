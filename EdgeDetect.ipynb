{
 "cells": [
  {
   "cell_type": "code",
   "execution_count": null,
   "metadata": {},
   "outputs": [],
   "source": [
    "import numpy as np\n",
    "import matplotlib.pyplot as plt\n",
    "import cv2\n",
    "import warnings"
   ]
  },
  {
   "cell_type": "code",
   "execution_count": null,
   "metadata": {},
   "outputs": [],
   "source": [
    "def make_coordinates(img, line_para):\n",
    "    slope, intercept = line_para\n",
    "    try:\n",
    "        y1 = img.shape[0]\n",
    "        y2 = int(y1*(3.6/5))\n",
    "        x1 = int((y1 - intercept)/slope)\n",
    "        x2 = int((y2 - intercept)/slope)\n",
    "        \n",
    "        return np.array([x1, y1, x2, y2])\n",
    "    except OverflowError:\n",
    "        print(\"OverflowError\")"
   ]
  },
  {
   "cell_type": "code",
   "execution_count": null,
   "metadata": {},
   "outputs": [],
   "source": [
    "left_ln = []\n",
    "right_ln = []"
   ]
  },
  {
   "cell_type": "code",
   "execution_count": null,
   "metadata": {},
   "outputs": [],
   "source": [
    "def avg_line_img(image, lines):\n",
    "    left_fit = []\n",
    "    right_fit = []\n",
    "    \n",
    "    try:\n",
    "        for line in lines:\n",
    "            x1, y1, x2, y2 = line.reshape(4)\n",
    "\n",
    "            para = np.polyfit((x1, x2), (y1, y2), 1)\n",
    "            \n",
    "            if abs(para[0]) > 0.001:\n",
    "#                 print(para[0])\n",
    "                \n",
    "                slope = para[0]\n",
    "                intercept = para[1]\n",
    "\n",
    "                if slope < 0:\n",
    "                    left_fit.append((slope, intercept))\n",
    "                else:\n",
    "                    right_fit.append((slope, intercept))\n",
    "    \n",
    "        left_fit_avg = np.average(left_fit, axis = 0)\n",
    "        right_fit_avg = np.average(right_fit, axis = 0)\n",
    "\n",
    "        left_ln.append(left_fit_avg)\n",
    "        if str(type(right_fit_avg)) == \"<class 'numpy.float64'>\":\n",
    "            right_ln.append(right_ln[-1])\n",
    "        else:\n",
    "            right_ln.append(right_fit_avg)\n",
    "\n",
    "#         print(right_ln)\n",
    "\n",
    "        if str(type(right_fit_avg)) == \"<class 'numpy.float64'>\":\n",
    "            right_fit_avg = right_ln[-1]\n",
    "#             print(\"yesssssss\",right_fit_avg)\n",
    "\n",
    "        left_line = make_coordinates(image, left_fit_avg)\n",
    "        right_line = make_coordinates(image, right_fit_avg)\n",
    "    \n",
    "    \n",
    "        return np.array([left_line, right_line])\n",
    "    except TypeError:\n",
    "        print(\"typeError\")"
   ]
  },
  {
   "cell_type": "code",
   "execution_count": null,
   "metadata": {},
   "outputs": [],
   "source": [
    "def cannyDet(image):\n",
    "    gray = cv2.cvtColor(image, cv2.COLOR_BGR2GRAY)\n",
    "    blur = cv2.GaussianBlur(gray, (5,5), 0)\n",
    "    canny = cv2.Canny(blur, 30, 110)\n",
    "    return canny"
   ]
  },
  {
   "cell_type": "code",
   "execution_count": null,
   "metadata": {},
   "outputs": [],
   "source": [
    "def display(image, lines):\n",
    "    line_image = np.zeros_like(image)\n",
    "    try:\n",
    "        if lines is not None:\n",
    "            for x1, y1, x2, y2 in lines:\n",
    "                try:\n",
    "                    cv2.line(image, (x1, y1), (x2, y2), (0, 150, 255), 3)\n",
    "                except OverflowError:\n",
    "                    print(\"Overflowerror\")\n",
    "        return line_image\n",
    "    except TypeError:\n",
    "        print(\"TypeError\")"
   ]
  },
  {
   "cell_type": "code",
   "execution_count": null,
   "metadata": {},
   "outputs": [],
   "source": [
    "def RoI(image):\n",
    "    height = image.shape[0]\n",
    "    width = image.shape[1]\n",
    "    poly = np.array([\n",
    "        [ (100,height),(width, height), (620, 350)]\n",
    "    ])\n",
    "    mask = np.zeros_like(image)\n",
    "    cv2.fillPoly(mask, poly, 255)\n",
    "    masked_img = cv2.bitwise_and(image, mask)\n",
    "    return masked_img"
   ]
  },
  {
   "cell_type": "code",
   "execution_count": null,
   "metadata": {
    "scrolled": true
   },
   "outputs": [],
   "source": [
    "# image = cv2.imread(\"dcam3.jpg\")\n",
    "# lane_image = np.copy(image)\n",
    "# canny_img = cannyDet(lane_image)\n",
    "# cropped_img = RoI(canny_img)\n",
    "# lines = cv2.HoughLinesP(cropped_img, 2, np.pi/150, 100, np.array([]), minLineLength=40, maxLineGap = 10)\n",
    "# avg_lines = avg_line_img(lane_image, lines)\n",
    "# line_image = display(lane_image, avg_lines)\n",
    "# combo = cv2.addWeighted(lane_image, 0.8, line_image, 1, 1)"
   ]
  },
  {
   "cell_type": "code",
   "execution_count": null,
   "metadata": {},
   "outputs": [],
   "source": [
    "# plt.imshow(combo)"
   ]
  },
  {
   "cell_type": "code",
   "execution_count": null,
   "metadata": {},
   "outputs": [],
   "source": [
    "# cv2.imshow(\"image\", combo)\n",
    "# cv2.waitKey(0)f\n",
    "# cv2.destroyAllWindows()"
   ]
  },
  {
   "cell_type": "code",
   "execution_count": null,
   "metadata": {},
   "outputs": [],
   "source": [
    "cap = cv2.VideoCapture(\"HighWayRoad.mp4\")"
   ]
  },
  {
   "cell_type": "code",
   "execution_count": null,
   "metadata": {
    "scrolled": true
   },
   "outputs": [],
   "source": [
    "while cap.isOpened():\n",
    "    warnings.simplefilter('ignore', np.RankWarning)\n",
    "    _, frame = cap.read()\n",
    "    canny_img = cannyDet(frame)\n",
    "    cropped_img = RoI(canny_img)\n",
    "    lines = cv2.HoughLinesP(cropped_img, rho=3, theta=np.pi/160, threshold=50, lines=np.array([]), minLineLength=35, maxLineGap = 6)\n",
    "    avg_lines = avg_line_img(frame, lines)\n",
    "    line_image = display(frame, avg_lines)\n",
    "    combo = cv2.addWeighted(frame, 0.8, line_image, 1, 1)\n",
    "    cv2.imshow(\"image\", combo)\n",
    "    cv2.waitKey(1)"
   ]
  },
  {
   "cell_type": "code",
   "execution_count": null,
   "metadata": {},
   "outputs": [],
   "source": []
  }
 ],
 "metadata": {
  "kernelspec": {
   "display_name": "Python 3",
   "language": "python",
   "name": "python3"
  },
  "language_info": {
   "codemirror_mode": {
    "name": "ipython",
    "version": 3
   },
   "file_extension": ".py",
   "mimetype": "text/x-python",
   "name": "python",
   "nbconvert_exporter": "python",
   "pygments_lexer": "ipython3",
   "version": "3.7.3"
  }
 },
 "nbformat": 4,
 "nbformat_minor": 2
}